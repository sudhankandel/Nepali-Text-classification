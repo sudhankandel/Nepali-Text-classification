{
 "cells": [
  {
   "cell_type": "code",
   "execution_count": 1,
   "metadata": {},
   "outputs": [],
   "source": [
    "from bs4 import BeautifulSoup\n",
    "import requests\n",
    "import urllib, json\n",
    "import re\n",
    "import pandas as pd"
   ]
  },
  {
   "cell_type": "code",
   "execution_count": 2,
   "metadata": {},
   "outputs": [
    {
     "name": "stdout",
     "output_type": "stream",
     "text": [
      "<a href=\"https://ekantipur.com/news\">समाचार</a>\n",
      "<a href=\"https://ekantipur.com/business\">अर्थ / वाणिज्य</a>\n",
      "<a href=\"https://ekantipur.com/opinion\">विचार</a>\n",
      "<a href=\"https://ekantipur.com/sports\">खेलकुद</a>\n",
      "<a href=\"https://ekantipur.com/national\">उपत्यका</a>\n",
      "<a href=\"https://ekantipur.com/koseli\">कोसेली</a>\n",
      "<a href=\"https://ekantipur.com/world\">विश्व</a>\n",
      "<a href=\"https://ekantipur.com/entertainment\">मनोरञ्जन</a>\n",
      "<a href=\"https://ekantipur.com/blog\">ब्लग</a>\n",
      "<a href=\"https://ekantipur.com/diaspora\">प्रवास</a>\n",
      "<a href=\"https://ekantipur.com/feature\">फिचर</a>\n",
      "<a href=\"https://ekantipur.com/photo_feature\">फोटोफिचर</a>\n",
      "<a href=\"https://ekantipur.com/lifestyle\">जीवनशैली</a>\n",
      "<a href=\"https://ekantipur.com/literature\">साहित्य/विविध</a>\n",
      "<a href=\"https://ekantipur.com/technology\">विज्ञान र प्रविधि</a>\n",
      "<a href=\"https://ekantipur.com/health\">स्वास्थ्य</a>\n",
      "<a href=\"https://ekantipur.com/video\">भिडियो</a>\n",
      "<a href=\"https://ekantipur.com/pathakmanch\">सम्पादकलाई चिठी</a>\n",
      "<a href=\"https://ekantipur.com/Interview\">कुराकानी</a>\n",
      "<a href=\"https://ekantipur.com/Art\">कला</a>\n",
      "<a href=\"https://ekantipur.com/Other\">अन्य</a>\n",
      "<a href=\"https://ekantipur.com/nari-nepali\">नारी नेपाली</a>\n",
      "<a href=\"https://ekantipur.com/DASHAIN-ESPICAL\">दसैं विशेष</a>\n"
     ]
    },
    {
     "data": {
      "text/plain": [
       "['news',\n",
       " 'business',\n",
       " 'opinion',\n",
       " 'sports',\n",
       " 'national',\n",
       " 'koseli',\n",
       " 'world',\n",
       " 'entertainment',\n",
       " 'blog',\n",
       " 'diaspora',\n",
       " 'feature',\n",
       " 'photo_feature',\n",
       " 'lifestyle',\n",
       " 'literature',\n",
       " 'technology',\n",
       " 'health',\n",
       " 'video',\n",
       " 'pathakmanch',\n",
       " 'Interview',\n",
       " 'Art',\n",
       " 'Other',\n",
       " 'nari-nepali',\n",
       " 'DASHAIN-ESPICAL']"
      ]
     },
     "execution_count": 2,
     "metadata": {},
     "output_type": "execute_result"
    }
   ],
   "source": [
    "def Category():\n",
    "    url=\"https://ekantipur.com\"\n",
    "    r=requests.get(url)\n",
    "    html_file=r.text\n",
    "    soup=BeautifulSoup(html_file)\n",
    "    label=soup.findAll('li')[2:25]\n",
    "    \n",
    "    links=[]\n",
    "    category=[]\n",
    "    for div in soup.findAll('li')[2:25]:\n",
    "        \n",
    "        a = div.findAll('a')[0]\n",
    "        print(a)\n",
    "        link=a.attrs['href']\n",
    "        links.append(link)\n",
    "    for i in links:\n",
    "        removed = i.replace(\"https://ekantipur.com/\", \"\")\n",
    "        category.append(removed)\n",
    "    return category\n",
    "Category()"
   ]
  },
  {
   "cell_type": "code",
   "execution_count": 3,
   "metadata": {},
   "outputs": [],
   "source": [
    "def Link_extract(category):\n",
    "    category_url='https://ekantipur.com/'+category+''\n",
    "    r=requests.get(category_url)\n",
    "    sporthtml=r.text\n",
    "    soup=BeautifulSoup(sporthtml,'html.parser')\n",
    "    label=soup.findAll(\"div\", {\"class\": \"catName\"})\n",
    "    links=[]\n",
    "    for i in label:\n",
    "        for j in i:\n",
    "            label=j\n",
    "    for div in soup.findAll(\"div\", {\"class\": \"teaser offset\"}):\n",
    "        a = div.findAll('a')[0]\n",
    "        link=a.attrs['href']\n",
    "        links.append(\"https://ekantipur.com\"+link)\n",
    "    return links,label\n"
   ]
  },
  {
   "cell_type": "code",
   "execution_count": 4,
   "metadata": {},
   "outputs": [],
   "source": [
    "def ajax_link(category):\n",
    "    ajax_link=[]\n",
    "    links,_=Link_extract(category)\n",
    "    for i in range(1,29,2):\n",
    "        my_url = 'https://ekantipur.com/'+category+'/2019/10/'+str(i)+'?json=true' \n",
    "        ret = requests.get(my_url)\n",
    "        response = urllib.request.urlopen(my_url)\n",
    "        data = json.loads(response.read())\n",
    "        data=data['html']\n",
    "        urls = re.findall('(?:(?:https?|ftp)://ekantipur.com/'+category+'/)[\\w/\\-?=%.]+\\.[\\w/\\-?=%.]+', data)\n",
    "\n",
    "        for i in urls:\n",
    "            ajax_link.append(i)\n",
    "    for s in list(set(ajax_link)):\n",
    "        links.append(s)\n",
    "    return links\n"
   ]
  },
  {
   "cell_type": "code",
   "execution_count": 5,
   "metadata": {},
   "outputs": [],
   "source": [
    "def Get_data(category):\n",
    "    final_data=[]\n",
    "    data=[]\n",
    "    links=ajax_link(category)\n",
    "    label=[]\n",
    "    for i in range(len(links)):\n",
    "        soup = BeautifulSoup(requests.get(links[i]).text,\"html.parser\")\n",
    "        for item in soup.findAll(\"div\", class_=['description', 'portrait']):\n",
    "            if item['class'][0]=='description':\n",
    "                required_data = [p_item.text.strip() for p_item in item.select(\"p\")]\n",
    "                required_data=required_data[0:2]\n",
    "                for a in required_data:\n",
    "                    data.append(a)      \n",
    "        final_data.append(\" \".join(data[0:2]))\n",
    "        data=[]\n",
    "        for item in  soup.select('.cat_name div:first-child'):\n",
    "            required_data = [p_item.text.strip() for p_item in item.select(\"a\")]\n",
    "            for i in required_data:\n",
    "                if len(i)==0:\n",
    "                    pass\n",
    "                else:\n",
    "                    label.append(i) \n",
    "        \n",
    "    return  final_data,label\n"
   ]
  },
  {
   "cell_type": "code",
   "execution_count": 6,
   "metadata": {},
   "outputs": [
    {
     "name": "stdout",
     "output_type": "stream",
     "text": [
      "<a href=\"https://ekantipur.com/news\">समाचार</a>\n",
      "<a href=\"https://ekantipur.com/business\">अर्थ / वाणिज्य</a>\n",
      "<a href=\"https://ekantipur.com/opinion\">विचार</a>\n",
      "<a href=\"https://ekantipur.com/sports\">खेलकुद</a>\n",
      "<a href=\"https://ekantipur.com/national\">उपत्यका</a>\n",
      "<a href=\"https://ekantipur.com/koseli\">कोसेली</a>\n",
      "<a href=\"https://ekantipur.com/world\">विश्व</a>\n",
      "<a href=\"https://ekantipur.com/entertainment\">मनोरञ्जन</a>\n",
      "<a href=\"https://ekantipur.com/blog\">ब्लग</a>\n",
      "<a href=\"https://ekantipur.com/diaspora\">प्रवास</a>\n",
      "<a href=\"https://ekantipur.com/feature\">फिचर</a>\n",
      "<a href=\"https://ekantipur.com/photo_feature\">फोटोफिचर</a>\n",
      "<a href=\"https://ekantipur.com/lifestyle\">जीवनशैली</a>\n",
      "<a href=\"https://ekantipur.com/literature\">साहित्य/विविध</a>\n",
      "<a href=\"https://ekantipur.com/technology\">विज्ञान र प्रविधि</a>\n",
      "<a href=\"https://ekantipur.com/health\">स्वास्थ्य</a>\n",
      "<a href=\"https://ekantipur.com/video\">भिडियो</a>\n",
      "<a href=\"https://ekantipur.com/pathakmanch\">सम्पादकलाई चिठी</a>\n",
      "<a href=\"https://ekantipur.com/Interview\">कुराकानी</a>\n",
      "<a href=\"https://ekantipur.com/Art\">कला</a>\n",
      "<a href=\"https://ekantipur.com/Other\">अन्य</a>\n",
      "<a href=\"https://ekantipur.com/nari-nepali\">नारी नेपाली</a>\n",
      "<a href=\"https://ekantipur.com/DASHAIN-ESPICAL\">दसैं विशेष</a>\n"
     ]
    },
    {
     "data": {
      "text/plain": [
       "23"
      ]
     },
     "execution_count": 6,
     "metadata": {},
     "output_type": "execute_result"
    }
   ],
   "source": [
    "len(Category())"
   ]
  },
  {
   "cell_type": "code",
   "execution_count": 7,
   "metadata": {},
   "outputs": [
    {
     "name": "stdout",
     "output_type": "stream",
     "text": [
      "<a href=\"https://ekantipur.com/news\">समाचार</a>\n",
      "<a href=\"https://ekantipur.com/business\">अर्थ / वाणिज्य</a>\n",
      "<a href=\"https://ekantipur.com/opinion\">विचार</a>\n",
      "<a href=\"https://ekantipur.com/sports\">खेलकुद</a>\n",
      "<a href=\"https://ekantipur.com/national\">उपत्यका</a>\n",
      "<a href=\"https://ekantipur.com/koseli\">कोसेली</a>\n",
      "<a href=\"https://ekantipur.com/world\">विश्व</a>\n",
      "<a href=\"https://ekantipur.com/entertainment\">मनोरञ्जन</a>\n",
      "<a href=\"https://ekantipur.com/blog\">ब्लग</a>\n",
      "<a href=\"https://ekantipur.com/diaspora\">प्रवास</a>\n",
      "<a href=\"https://ekantipur.com/feature\">फिचर</a>\n",
      "<a href=\"https://ekantipur.com/photo_feature\">फोटोफिचर</a>\n",
      "<a href=\"https://ekantipur.com/lifestyle\">जीवनशैली</a>\n",
      "<a href=\"https://ekantipur.com/literature\">साहित्य/विविध</a>\n",
      "<a href=\"https://ekantipur.com/technology\">विज्ञान र प्रविधि</a>\n",
      "<a href=\"https://ekantipur.com/health\">स्वास्थ्य</a>\n",
      "<a href=\"https://ekantipur.com/video\">भिडियो</a>\n",
      "<a href=\"https://ekantipur.com/pathakmanch\">सम्पादकलाई चिठी</a>\n",
      "<a href=\"https://ekantipur.com/Interview\">कुराकानी</a>\n",
      "<a href=\"https://ekantipur.com/Art\">कला</a>\n",
      "<a href=\"https://ekantipur.com/Other\">अन्य</a>\n",
      "<a href=\"https://ekantipur.com/nari-nepali\">नारी नेपाली</a>\n",
      "<a href=\"https://ekantipur.com/DASHAIN-ESPICAL\">दसैं विशेष</a>\n"
     ]
    },
    {
     "data": {
      "text/plain": [
       "['news',\n",
       " 'business',\n",
       " 'opinion',\n",
       " 'sports',\n",
       " 'national',\n",
       " 'koseli',\n",
       " 'world',\n",
       " 'entertainment',\n",
       " 'blog',\n",
       " 'diaspora',\n",
       " 'feature',\n",
       " 'photo_feature',\n",
       " 'lifestyle',\n",
       " 'literature',\n",
       " 'technology',\n",
       " 'health',\n",
       " 'video',\n",
       " 'pathakmanch',\n",
       " 'Interview',\n",
       " 'Art',\n",
       " 'Other',\n",
       " 'nari-nepali',\n",
       " 'DASHAIN-ESPICAL']"
      ]
     },
     "execution_count": 7,
     "metadata": {},
     "output_type": "execute_result"
    }
   ],
   "source": [
    "category=Category()\n",
    "category=category\n",
    "category"
   ]
  },
  {
   "cell_type": "code",
   "execution_count": null,
   "metadata": {},
   "outputs": [],
   "source": [
    "data=[]\n",
    "label=[]\n",
    "for i in category[0:3]:\n",
    "    a,b=Get_data(i)\n",
    "    for s in a:\n",
    "        data.append(s)\n",
    "    for k in b:\n",
    "        label.append(k)"
   ]
  },
  {
   "cell_type": "code",
   "execution_count": 10,
   "metadata": {},
   "outputs": [],
   "source": [
    "df_basic={'news':data,\n",
    "  'label':label}"
   ]
  },
  {
   "cell_type": "code",
   "execution_count": 11,
   "metadata": {},
   "outputs": [],
   "source": [
    "aa=pd.DataFrame(df_basic)"
   ]
  },
  {
   "cell_type": "code",
   "execution_count": 11,
   "metadata": {},
   "outputs": [],
   "source": [
    "aa.to_csv('all.csv')"
   ]
  },
  {
   "cell_type": "code",
   "execution_count": 12,
   "metadata": {},
   "outputs": [
    {
     "data": {
      "text/plain": [
       "{'news': [], 'label': []}"
      ]
     },
     "execution_count": 12,
     "metadata": {},
     "output_type": "execute_result"
    }
   ],
   "source": [
    "df_basic"
   ]
  },
  {
   "cell_type": "code",
   "execution_count": null,
   "metadata": {},
   "outputs": [],
   "source": []
  }
 ],
 "metadata": {
  "kernelspec": {
   "display_name": "Python 3",
   "language": "python",
   "name": "python3"
  },
  "language_info": {
   "codemirror_mode": {
    "name": "ipython",
    "version": 3
   },
   "file_extension": ".py",
   "mimetype": "text/x-python",
   "name": "python",
   "nbconvert_exporter": "python",
   "pygments_lexer": "ipython3",
   "version": "3.7.6"
  }
 },
 "nbformat": 4,
 "nbformat_minor": 2
}
