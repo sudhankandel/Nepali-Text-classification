{
 "cells": [
  {
   "cell_type": "code",
   "execution_count": 1,
   "metadata": {},
   "outputs": [],
   "source": [
    "from bs4 import BeautifulSoup\n",
    "import requests\n",
    "import urllib, json\n",
    "import re\n",
    "import pandas as pd"
   ]
  },
  {
   "cell_type": "code",
   "execution_count": 2,
   "metadata": {},
   "outputs": [],
   "source": [
    "def Link_extract(category):\n",
    "    category_url='https://ekantipur.com/'+category+''\n",
    "    r=requests.get(category_url)\n",
    "    sporthtml=r.text\n",
    "    soup=BeautifulSoup(sporthtml,'html.parser')\n",
    "    label=soup.findAll(\"div\", {\"class\": \"catName\"})\n",
    "    links=[]\n",
    "    for i in label:\n",
    "        for j in i:\n",
    "            label=j\n",
    "    for div in soup.findAll(\"div\", {\"class\": \"teaser offset\"}):\n",
    "        a = div.findAll('a')[0]\n",
    "        link=a.attrs['href']\n",
    "        links.append(\"https://ekantipur.com\"+link)\n",
    "    return links,label\n"
   ]
  },
  {
   "cell_type": "code",
   "execution_count": 3,
   "metadata": {},
   "outputs": [],
   "source": [
    "def ajax_link(category):\n",
    "    ajax_link=[]\n",
    "    links,_=Link_extract(category)\n",
    "    for i in range(1,29,2):\n",
    "        my_url = 'https://ekantipur.com/'+category+'/2019/10/'+str(i)+'?json=true' \n",
    "        ret = requests.get(my_url)\n",
    "        response = urllib.request.urlopen(my_url)\n",
    "        data = json.loads(response.read())\n",
    "        data=data['html']\n",
    "        urls = re.findall('(?:(?:https?|ftp)://ekantipur.com/'+category+'/)[\\w/\\-?=%.]+\\.[\\w/\\-?=%.]+', data)\n",
    "\n",
    "        for i in urls:\n",
    "            ajax_link.append(i)\n",
    "    for s in list(set(ajax_link)):\n",
    "        links.append(s)\n",
    "    return links\n"
   ]
  },
  {
   "cell_type": "code",
   "execution_count": 4,
   "metadata": {},
   "outputs": [],
   "source": [
    "def Get_data(category):\n",
    "    final_data=[]\n",
    "    data=[]\n",
    "    links=ajax_link(category)\n",
    "    for i in range(len(links)):\n",
    "        soup = BeautifulSoup(requests.get(links[i]).text,\"html.parser\")\n",
    "        for item in soup.findAll(\"div\", class_=['description', 'portrait']):\n",
    "            if item['class'][0]=='description':\n",
    "                required_data = [p_item.text.strip() for p_item in item.select(\"p\")]\n",
    "                required_data=required_data[0:2]\n",
    "                for a in required_data:\n",
    "                    data.append(a)      \n",
    "        final_data.append(\" \".join(data[0:2]))\n",
    "        data=[]\n",
    "    return final_data\n"
   ]
  },
  {
   "cell_type": "code",
   "execution_count": 5,
   "metadata": {},
   "outputs": [],
   "source": [
    "sport_data=Get_data('sports')\n",
    "enentertainment_data=Get_data('entertainment')\n",
    "business_data=Get_data('business')\n",
    "opinion_data=Get_data('opinion')"
   ]
  },
  {
   "cell_type": "code",
   "execution_count": 6,
   "metadata": {},
   "outputs": [],
   "source": [
    "def Get_label(category,data):\n",
    "    label=[]\n",
    "    lbl=Link_extract(category)[1]\n",
    "    for i in range(len(data)):\n",
    "        label.append(lbl)\n",
    "    return label"
   ]
  },
  {
   "cell_type": "code",
   "execution_count": 7,
   "metadata": {},
   "outputs": [],
   "source": [
    "sport_label=Get_label('sports',sport_data)\n",
    "enentertainment_label=Get_label('entertainment',enentertainment_data)\n",
    "business_label=Get_label('business',business_data)\n",
    "opinion_label=Get_label('opinion',opinion_data)"
   ]
  },
  {
   "cell_type": "code",
   "execution_count": 8,
   "metadata": {},
   "outputs": [],
   "source": [
    "sport={'news':sport_data,\n",
    "  'label':sport_label}\n",
    "enentertainment={'news':enentertainment_data,\n",
    "  'label':enentertainment_label}\n",
    "business={'news':business_data,\n",
    "  'label':business_label}\n",
    "opinion={'news':opinion_data,\n",
    "  'label':opinion_label}"
   ]
  },
  {
   "cell_type": "code",
   "execution_count": 9,
   "metadata": {},
   "outputs": [],
   "source": [
    "df1=pd.DataFrame(sport)\n",
    "df2=pd.DataFrame(enentertainment)\n",
    "df3=pd.DataFrame(business)\n",
    "df4=pd.DataFrame(opinion)"
   ]
  },
  {
   "cell_type": "code",
   "execution_count": 10,
   "metadata": {},
   "outputs": [],
   "source": [
    "scarping_data=pd.concat([df1,df2,df3,df4])"
   ]
  },
  {
   "cell_type": "code",
   "execution_count": 2,
   "metadata": {},
   "outputs": [
    {
     "ename": "NameError",
     "evalue": "name 'scarping_data' is not defined",
     "output_type": "error",
     "traceback": [
      "\u001b[0;31m---------------------------------------------------------------------------\u001b[0m",
      "\u001b[0;31mNameError\u001b[0m                                 Traceback (most recent call last)",
      "\u001b[0;32m<ipython-input-2-095b6233ceac>\u001b[0m in \u001b[0;36m<module>\u001b[0;34m\u001b[0m\n\u001b[0;32m----> 1\u001b[0;31m \u001b[0mscarping_data\u001b[0m\u001b[0;34m.\u001b[0m\u001b[0mto_csv\u001b[0m\u001b[0;34m(\u001b[0m\u001b[0;34m'scarping_news.csv'\u001b[0m\u001b[0;34m)\u001b[0m\u001b[0;34m\u001b[0m\u001b[0;34m\u001b[0m\u001b[0m\n\u001b[0m",
      "\u001b[0;31mNameError\u001b[0m: name 'scarping_data' is not defined"
     ]
    }
   ],
   "source": [
    "scarping_data.to_csv('scarping_news.csv')"
   ]
  },
  {
   "cell_type": "code",
   "execution_count": null,
   "metadata": {},
   "outputs": [],
   "source": []
  }
 ],
 "metadata": {
  "kernelspec": {
   "display_name": "Python 3",
   "language": "python",
   "name": "python3"
  },
  "language_info": {
   "codemirror_mode": {
    "name": "ipython",
    "version": 3
   },
   "file_extension": ".py",
   "mimetype": "text/x-python",
   "name": "python",
   "nbconvert_exporter": "python",
   "pygments_lexer": "ipython3",
   "version": "3.7.4"
  }
 },
 "nbformat": 4,
 "nbformat_minor": 2
}
